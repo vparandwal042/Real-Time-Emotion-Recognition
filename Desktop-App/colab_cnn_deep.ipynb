{
  "nbformat": 4,
  "nbformat_minor": 0,
  "metadata": {
    "colab": {
      "name": "colab_cnn_deep.ipynb",
      "provenance": [],
      "collapsed_sections": []
    },
    "kernelspec": {
      "name": "python3",
      "display_name": "Python 3"
    },
    "accelerator": "GPU"
  },
  "cells": [
    {
      "cell_type": "code",
      "metadata": {
        "id": "dbvGylLBvX28",
        "colab_type": "code",
        "outputId": "55def67b-a684-4f24-ecb6-b3a8e5225f39",
        "colab": {
          "base_uri": "https://localhost:8080/",
          "height": 275
        }
      },
      "source": [
        "!pip install scikit-plot"
      ],
      "execution_count": 0,
      "outputs": [
        {
          "output_type": "stream",
          "text": [
            "Collecting scikit-plot\n",
            "  Downloading https://files.pythonhosted.org/packages/7c/47/32520e259340c140a4ad27c1b97050dd3254fdc517b1d59974d47037510e/scikit_plot-0.3.7-py3-none-any.whl\n",
            "Requirement already satisfied: scikit-learn>=0.18 in /usr/local/lib/python3.6/dist-packages (from scikit-plot) (0.22.2.post1)\n",
            "Requirement already satisfied: scipy>=0.9 in /usr/local/lib/python3.6/dist-packages (from scikit-plot) (1.4.1)\n",
            "Requirement already satisfied: matplotlib>=1.4.0 in /usr/local/lib/python3.6/dist-packages (from scikit-plot) (3.2.1)\n",
            "Requirement already satisfied: joblib>=0.10 in /usr/local/lib/python3.6/dist-packages (from scikit-plot) (0.15.1)\n",
            "Requirement already satisfied: numpy>=1.11.0 in /usr/local/lib/python3.6/dist-packages (from scikit-learn>=0.18->scikit-plot) (1.18.4)\n",
            "Requirement already satisfied: pyparsing!=2.0.4,!=2.1.2,!=2.1.6,>=2.0.1 in /usr/local/lib/python3.6/dist-packages (from matplotlib>=1.4.0->scikit-plot) (2.4.7)\n",
            "Requirement already satisfied: python-dateutil>=2.1 in /usr/local/lib/python3.6/dist-packages (from matplotlib>=1.4.0->scikit-plot) (2.8.1)\n",
            "Requirement already satisfied: kiwisolver>=1.0.1 in /usr/local/lib/python3.6/dist-packages (from matplotlib>=1.4.0->scikit-plot) (1.2.0)\n",
            "Requirement already satisfied: cycler>=0.10 in /usr/local/lib/python3.6/dist-packages (from matplotlib>=1.4.0->scikit-plot) (0.10.0)\n",
            "Requirement already satisfied: six>=1.5 in /usr/local/lib/python3.6/dist-packages (from python-dateutil>=2.1->matplotlib>=1.4.0->scikit-plot) (1.12.0)\n",
            "Installing collected packages: scikit-plot\n",
            "Successfully installed scikit-plot-0.3.7\n"
          ],
          "name": "stdout"
        }
      ]
    },
    {
      "cell_type": "markdown",
      "metadata": {
        "id": "3gx0qdn1Spso",
        "colab_type": "text"
      },
      "source": [
        "import relevant packages"
      ]
    },
    {
      "cell_type": "code",
      "metadata": {
        "id": "dNne87NZoEUM",
        "colab_type": "code",
        "outputId": "40882e62-63ac-41b5-cf56-4f64af7a6849",
        "colab": {
          "base_uri": "https://localhost:8080/",
          "height": 34
        }
      },
      "source": [
        "from __future__ import print_function\n",
        "import numpy as np\n",
        "import os\n",
        "import matplotlib.pyplot as plt\n",
        "\n",
        "from sklearn.model_selection import train_test_split\n",
        "\n",
        "from keras.models import Sequential\n",
        "from keras.layers import Dense , Activation , Dropout ,Flatten\n",
        "from keras.layers.convolutional import Conv2D\n",
        "from keras.layers.convolutional import MaxPooling2D\n",
        "from keras.metrics import categorical_accuracy\n",
        "from keras.models import model_from_json\n",
        "\n",
        "from keras.optimizers import *\n",
        "from keras.layers.normalization import BatchNormalization\n",
        "import tensorflow as tf\n",
        "\n",
        "import scikitplot as skplt\n",
        "from sklearn import metrics"
      ],
      "execution_count": 0,
      "outputs": [
        {
          "output_type": "stream",
          "text": [
            "Using TensorFlow backend.\n"
          ],
          "name": "stderr"
        }
      ]
    },
    {
      "cell_type": "markdown",
      "metadata": {
        "id": "0bG0MNeUzBHv",
        "colab_type": "text"
      },
      "source": [
        "Using CUDA and GPU features of Google Colab"
      ]
    },
    {
      "cell_type": "code",
      "metadata": {
        "id": "pw6kmU4EIYJ9",
        "colab_type": "code",
        "colab": {}
      },
      "source": [
        "def use_gpu():\n",
        "    \"\"\"Configuration for GPU\"\"\"\n",
        "    from keras.backend.tensorflow_backend import set_session\n",
        "    os.environ['CUDA_VISIBLE_DEVICES'] = str(0)\n",
        "    config = tf.compat.v1.ConfigProto()\n",
        "    config.gpu_options.per_process_gpu_memory_fraction = 0.9\n",
        "    config.gpu_options.allow_growth = True\n",
        "    sess = tf.compat.v1.InteractiveSession(config=config)\n",
        "    sess.close()\n",
        "\n",
        "use_gpu()"
      ],
      "execution_count": 0,
      "outputs": []
    },
    {
      "cell_type": "markdown",
      "metadata": {
        "id": "s8z_V4v0Sxua",
        "colab_type": "text"
      },
      "source": [
        "path for the essential files"
      ]
    },
    {
      "cell_type": "code",
      "metadata": {
        "id": "8KqUr-wzog09",
        "colab_type": "code",
        "colab": {}
      },
      "source": [
        "path = \"/content/drive/My Drive/Emotion-Recognition/\"\n",
        "\n",
        "x = np.load(path + 'fdataX.npy')\n",
        "y = np.load(path + 'flabels.npy')\n",
        "\n",
        "x -= np.mean(x, axis=0)\n",
        "x /= np.std(x, axis=0)"
      ],
      "execution_count": 0,
      "outputs": []
    },
    {
      "cell_type": "markdown",
      "metadata": {
        "id": "kFztsyAjS56x",
        "colab_type": "text"
      },
      "source": [
        "Split the dataset into the ratio = training set : validation set :  testing set in 80:10:10"
      ]
    },
    {
      "cell_type": "code",
      "metadata": {
        "id": "kRdWaoSJop6W",
        "colab_type": "code",
        "colab": {}
      },
      "source": [
        "# Split in  training set : validation set :  testing set in 80:10:10\n",
        "\n",
        "X_train, X_test, y_train, y_test = train_test_split(x, y, test_size=0.2, random_state=42)"
      ],
      "execution_count": 0,
      "outputs": []
    },
    {
      "cell_type": "markdown",
      "metadata": {
        "id": "v1x1QjYCTRrT",
        "colab_type": "text"
      },
      "source": [
        "Our Proposed CNN Model: Deep CNN (DCNN) architecture and saved in .h5 file"
      ]
    },
    {
      "cell_type": "code",
      "metadata": {
        "id": "YSkN68BSi7OG",
        "colab_type": "code",
        "outputId": "04c1dd30-13e3-4071-e780-a546a7856b5d",
        "colab": {
          "base_uri": "https://localhost:8080/",
          "height": 1000
        }
      },
      "source": [
        "batch_size = 128\n",
        "epochs = 50\n",
        "num_class = 7\n",
        "\n",
        "#Main CNN model with four Convolution layer & two fully connected layer\n",
        "def baseline_model():\n",
        "    # Initialising the CNN\n",
        "    model = Sequential()\n",
        "\n",
        "    # 1 - Convolution\n",
        "    model.add(Conv2D(64,(3,3), border_mode='same', input_shape=(48, 48,1)))\n",
        "    model.add(BatchNormalization())\n",
        "    model.add(Activation('relu'))\n",
        "    model.add(MaxPooling2D(pool_size=(2, 2)))\n",
        "    model.add(Dropout(0.45))\n",
        "\n",
        "    # 2nd Convolution layer\n",
        "    model.add(Conv2D(128,(5,5), border_mode='same'))\n",
        "    model.add(BatchNormalization())\n",
        "    model.add(Activation('relu'))\n",
        "    model.add(MaxPooling2D(pool_size=(2, 2)))\n",
        "    model.add(Dropout(0.45))\n",
        "\n",
        "    # 3rd Convolution layer\n",
        "    model.add(Conv2D(512,(3,3), border_mode='same'))\n",
        "    model.add(BatchNormalization())\n",
        "    model.add(Activation('relu'))\n",
        "    model.add(MaxPooling2D(pool_size=(2, 2)))\n",
        "    model.add(Dropout(0.45))\n",
        "\n",
        "    # 4th Convolution layer\n",
        "    model.add(Conv2D(512,(3,3), border_mode='same'))\n",
        "    model.add(BatchNormalization())\n",
        "    model.add(Activation('relu'))\n",
        "    model.add(MaxPooling2D(pool_size=(2, 2)))\n",
        "    model.add(Dropout(0.45))\n",
        "\n",
        "\n",
        "    # Flattening\n",
        "    model.add(Flatten())\n",
        "\n",
        "    # Fully connected layer 1st layer\n",
        "    model.add(Dense(256))\n",
        "    model.add(BatchNormalization())\n",
        "    model.add(Activation('relu'))\n",
        "    model.add(Dropout(0.45))\n",
        "\n",
        "    # Fully connected layer 2nd layer\n",
        "    model.add(Dense(256))\n",
        "    model.add(BatchNormalization())\n",
        "    model.add(Activation('relu'))\n",
        "    model.add(Dropout(0.45))\n",
        "\n",
        "    model.add(Dense(num_class, activation='sigmoid'))\n",
        "\n",
        "    model.compile(optimizer='adam', loss='binary_crossentropy', metrics=['accuracy'])\n",
        "    return model\n",
        "\n",
        "# If model is not saved train the CNN model otherwise just load the weights\n",
        "\n",
        "# Train model\n",
        "model = baseline_model()\n",
        "# Note : 3230 samples is used as validation data &   25,838 as training samples\n",
        "\n",
        "history = model.fit(X_train, y_train, batch_size=batch_size, epochs=epochs, verbose=1, validation_data=(X_test,y_test))\n",
        "\n",
        "model_json = model.to_json()\n",
        "with open(path + \"Models/model_4layer_2_2_pool.json\", \"w\") as json_file:\n",
        "    json_file.write(model_json)\n",
        "\n",
        "# serialize weights to HDF5\n",
        "model.save_weights(path + \"Models/model_4layer_2_2_pool.h5\")\n",
        "print(\"Saved model to disk\")"
      ],
      "execution_count": 0,
      "outputs": [
        {
          "output_type": "stream",
          "text": [
            "/usr/local/lib/python3.6/dist-packages/ipykernel_launcher.py:11: UserWarning: Update your `Conv2D` call to the Keras 2 API: `Conv2D(64, (3, 3), input_shape=(48, 48, 1..., padding=\"same\")`\n",
            "  # This is added back by InteractiveShellApp.init_path()\n",
            "/usr/local/lib/python3.6/dist-packages/ipykernel_launcher.py:18: UserWarning: Update your `Conv2D` call to the Keras 2 API: `Conv2D(128, (5, 5), padding=\"same\")`\n",
            "/usr/local/lib/python3.6/dist-packages/ipykernel_launcher.py:25: UserWarning: Update your `Conv2D` call to the Keras 2 API: `Conv2D(512, (3, 3), padding=\"same\")`\n",
            "/usr/local/lib/python3.6/dist-packages/ipykernel_launcher.py:32: UserWarning: Update your `Conv2D` call to the Keras 2 API: `Conv2D(512, (3, 3), padding=\"same\")`\n"
          ],
          "name": "stderr"
        },
        {
          "output_type": "stream",
          "text": [
            "Train on 28709 samples, validate on 7178 samples\n",
            "Epoch 1/50\n",
            "28709/28709 [==============================] - 48s 2ms/step - loss: 0.4225 - accuracy: 0.8347 - val_loss: 0.3896 - val_accuracy: 0.8637\n",
            "Epoch 2/50\n",
            "28709/28709 [==============================] - 39s 1ms/step - loss: 0.3405 - accuracy: 0.8683 - val_loss: 0.3304 - val_accuracy: 0.8718\n",
            "Epoch 3/50\n",
            "28709/28709 [==============================] - 39s 1ms/step - loss: 0.3091 - accuracy: 0.8779 - val_loss: 0.2980 - val_accuracy: 0.8812\n",
            "Epoch 4/50\n",
            "28709/28709 [==============================] - 39s 1ms/step - loss: 0.2910 - accuracy: 0.8833 - val_loss: 0.2879 - val_accuracy: 0.8849\n",
            "Epoch 5/50\n",
            "28709/28709 [==============================] - 39s 1ms/step - loss: 0.2817 - accuracy: 0.8865 - val_loss: 0.2728 - val_accuracy: 0.8887\n",
            "Epoch 6/50\n",
            "28709/28709 [==============================] - 39s 1ms/step - loss: 0.2736 - accuracy: 0.8887 - val_loss: 0.2683 - val_accuracy: 0.8895\n",
            "Epoch 7/50\n",
            "28709/28709 [==============================] - 39s 1ms/step - loss: 0.2653 - accuracy: 0.8915 - val_loss: 0.2675 - val_accuracy: 0.8895\n",
            "Epoch 8/50\n",
            "28709/28709 [==============================] - 39s 1ms/step - loss: 0.2615 - accuracy: 0.8937 - val_loss: 0.2593 - val_accuracy: 0.8943\n",
            "Epoch 9/50\n",
            "28709/28709 [==============================] - 39s 1ms/step - loss: 0.2555 - accuracy: 0.8953 - val_loss: 0.2664 - val_accuracy: 0.8913\n",
            "Epoch 10/50\n",
            "28709/28709 [==============================] - 39s 1ms/step - loss: 0.2516 - accuracy: 0.8970 - val_loss: 0.2545 - val_accuracy: 0.8948\n",
            "Epoch 11/50\n",
            "28709/28709 [==============================] - 39s 1ms/step - loss: 0.2477 - accuracy: 0.8987 - val_loss: 0.2481 - val_accuracy: 0.8980\n",
            "Epoch 12/50\n",
            "28709/28709 [==============================] - 39s 1ms/step - loss: 0.2422 - accuracy: 0.9007 - val_loss: 0.2450 - val_accuracy: 0.9001\n",
            "Epoch 13/50\n",
            "28709/28709 [==============================] - 39s 1ms/step - loss: 0.2391 - accuracy: 0.9022 - val_loss: 0.2472 - val_accuracy: 0.8987\n",
            "Epoch 14/50\n",
            "28709/28709 [==============================] - 39s 1ms/step - loss: 0.2358 - accuracy: 0.9030 - val_loss: 0.2431 - val_accuracy: 0.9000\n",
            "Epoch 15/50\n",
            "28709/28709 [==============================] - 39s 1ms/step - loss: 0.2318 - accuracy: 0.9050 - val_loss: 0.2401 - val_accuracy: 0.9015\n",
            "Epoch 16/50\n",
            "28709/28709 [==============================] - 39s 1ms/step - loss: 0.2279 - accuracy: 0.9062 - val_loss: 0.2433 - val_accuracy: 0.9015\n",
            "Epoch 17/50\n",
            "28709/28709 [==============================] - 39s 1ms/step - loss: 0.2250 - accuracy: 0.9071 - val_loss: 0.2443 - val_accuracy: 0.8996\n",
            "Epoch 18/50\n",
            "28709/28709 [==============================] - 39s 1ms/step - loss: 0.2211 - accuracy: 0.9087 - val_loss: 0.2509 - val_accuracy: 0.8981\n",
            "Epoch 19/50\n",
            "28709/28709 [==============================] - 39s 1ms/step - loss: 0.2167 - accuracy: 0.9103 - val_loss: 0.2384 - val_accuracy: 0.9027\n",
            "Epoch 20/50\n",
            "28709/28709 [==============================] - 39s 1ms/step - loss: 0.2150 - accuracy: 0.9115 - val_loss: 0.2312 - val_accuracy: 0.9047\n",
            "Epoch 21/50\n",
            "28709/28709 [==============================] - 39s 1ms/step - loss: 0.2101 - accuracy: 0.9130 - val_loss: 0.2352 - val_accuracy: 0.9043\n",
            "Epoch 22/50\n",
            "28709/28709 [==============================] - 39s 1ms/step - loss: 0.2072 - accuracy: 0.9149 - val_loss: 0.2388 - val_accuracy: 0.9027\n",
            "Epoch 23/50\n",
            "28709/28709 [==============================] - 39s 1ms/step - loss: 0.2027 - accuracy: 0.9163 - val_loss: 0.2398 - val_accuracy: 0.9026\n",
            "Epoch 24/50\n",
            "28709/28709 [==============================] - 39s 1ms/step - loss: 0.1997 - accuracy: 0.9177 - val_loss: 0.2382 - val_accuracy: 0.9030\n",
            "Epoch 25/50\n",
            "28709/28709 [==============================] - 39s 1ms/step - loss: 0.1959 - accuracy: 0.9195 - val_loss: 0.2275 - val_accuracy: 0.9085\n",
            "Epoch 26/50\n",
            "28709/28709 [==============================] - 39s 1ms/step - loss: 0.1929 - accuracy: 0.9201 - val_loss: 0.2432 - val_accuracy: 0.9044\n",
            "Epoch 27/50\n",
            "28709/28709 [==============================] - 39s 1ms/step - loss: 0.1894 - accuracy: 0.9220 - val_loss: 0.2289 - val_accuracy: 0.9083\n",
            "Epoch 28/50\n",
            "28709/28709 [==============================] - 39s 1ms/step - loss: 0.1868 - accuracy: 0.9235 - val_loss: 0.2305 - val_accuracy: 0.9078\n",
            "Epoch 29/50\n",
            "28709/28709 [==============================] - 39s 1ms/step - loss: 0.1832 - accuracy: 0.9248 - val_loss: 0.2318 - val_accuracy: 0.9075\n",
            "Epoch 30/50\n",
            "28709/28709 [==============================] - 39s 1ms/step - loss: 0.1798 - accuracy: 0.9261 - val_loss: 0.2343 - val_accuracy: 0.9078\n",
            "Epoch 31/50\n",
            "28709/28709 [==============================] - 39s 1ms/step - loss: 0.1762 - accuracy: 0.9282 - val_loss: 0.2308 - val_accuracy: 0.9097\n",
            "Epoch 32/50\n",
            "28709/28709 [==============================] - 39s 1ms/step - loss: 0.1730 - accuracy: 0.9293 - val_loss: 0.2257 - val_accuracy: 0.9105\n",
            "Epoch 33/50\n",
            "28709/28709 [==============================] - 39s 1ms/step - loss: 0.1706 - accuracy: 0.9299 - val_loss: 0.2362 - val_accuracy: 0.9080\n",
            "Epoch 34/50\n",
            "28709/28709 [==============================] - 39s 1ms/step - loss: 0.1674 - accuracy: 0.9310 - val_loss: 0.2350 - val_accuracy: 0.9074\n",
            "Epoch 35/50\n",
            "28709/28709 [==============================] - 39s 1ms/step - loss: 0.1655 - accuracy: 0.9328 - val_loss: 0.2291 - val_accuracy: 0.9105\n",
            "Epoch 36/50\n",
            "28709/28709 [==============================] - 39s 1ms/step - loss: 0.1618 - accuracy: 0.9337 - val_loss: 0.2352 - val_accuracy: 0.9092\n",
            "Epoch 37/50\n",
            "28709/28709 [==============================] - 39s 1ms/step - loss: 0.1594 - accuracy: 0.9344 - val_loss: 0.2314 - val_accuracy: 0.9110\n",
            "Epoch 38/50\n",
            "28709/28709 [==============================] - 39s 1ms/step - loss: 0.1564 - accuracy: 0.9365 - val_loss: 0.2360 - val_accuracy: 0.9090\n",
            "Epoch 39/50\n",
            "28709/28709 [==============================] - 39s 1ms/step - loss: 0.1536 - accuracy: 0.9376 - val_loss: 0.2320 - val_accuracy: 0.9113\n",
            "Epoch 40/50\n",
            "28709/28709 [==============================] - 39s 1ms/step - loss: 0.1513 - accuracy: 0.9387 - val_loss: 0.2320 - val_accuracy: 0.9111\n",
            "Epoch 41/50\n",
            "28709/28709 [==============================] - 39s 1ms/step - loss: 0.1510 - accuracy: 0.9390 - val_loss: 0.2395 - val_accuracy: 0.9097\n",
            "Epoch 42/50\n",
            "28709/28709 [==============================] - 39s 1ms/step - loss: 0.1453 - accuracy: 0.9405 - val_loss: 0.2372 - val_accuracy: 0.9100\n",
            "Epoch 43/50\n",
            "28709/28709 [==============================] - 39s 1ms/step - loss: 0.1448 - accuracy: 0.9415 - val_loss: 0.2413 - val_accuracy: 0.9088\n",
            "Epoch 44/50\n",
            "28709/28709 [==============================] - 39s 1ms/step - loss: 0.1421 - accuracy: 0.9419 - val_loss: 0.2332 - val_accuracy: 0.9121\n",
            "Epoch 45/50\n",
            "28709/28709 [==============================] - 39s 1ms/step - loss: 0.1402 - accuracy: 0.9432 - val_loss: 0.2383 - val_accuracy: 0.9110\n",
            "Epoch 46/50\n",
            "28709/28709 [==============================] - 39s 1ms/step - loss: 0.1375 - accuracy: 0.9439 - val_loss: 0.2442 - val_accuracy: 0.9087\n",
            "Epoch 47/50\n",
            "28709/28709 [==============================] - 39s 1ms/step - loss: 0.1370 - accuracy: 0.9453 - val_loss: 0.2426 - val_accuracy: 0.9106\n",
            "Epoch 48/50\n",
            "28709/28709 [==============================] - 39s 1ms/step - loss: 0.1349 - accuracy: 0.9455 - val_loss: 0.2411 - val_accuracy: 0.9098\n",
            "Epoch 49/50\n",
            "28709/28709 [==============================] - 39s 1ms/step - loss: 0.1325 - accuracy: 0.9465 - val_loss: 0.2419 - val_accuracy: 0.9108\n",
            "Epoch 50/50\n",
            "28709/28709 [==============================] - 39s 1ms/step - loss: 0.1295 - accuracy: 0.9481 - val_loss: 0.2458 - val_accuracy: 0.9095\n",
            "Saved model to disk\n"
          ],
          "name": "stdout"
        }
      ]
    },
    {
      "cell_type": "markdown",
      "metadata": {
        "id": "sU7GMNgITkh9",
        "colab_type": "text"
      },
      "source": [
        "DCNN model summary"
      ]
    },
    {
      "cell_type": "code",
      "metadata": {
        "id": "klL4x8Ujq4WK",
        "colab_type": "code",
        "outputId": "4b9992a3-60ab-4f53-c64c-daa0b4d609a1",
        "colab": {
          "base_uri": "https://localhost:8080/",
          "height": 1000
        }
      },
      "source": [
        "print (model.summary())"
      ],
      "execution_count": 0,
      "outputs": [
        {
          "output_type": "stream",
          "text": [
            "Model: \"sequential_2\"\n",
            "_________________________________________________________________\n",
            "Layer (type)                 Output Shape              Param #   \n",
            "=================================================================\n",
            "conv2d_5 (Conv2D)            (None, 48, 48, 64)        640       \n",
            "_________________________________________________________________\n",
            "batch_normalization_6 (Batch (None, 48, 48, 64)        256       \n",
            "_________________________________________________________________\n",
            "activation_6 (Activation)    (None, 48, 48, 64)        0         \n",
            "_________________________________________________________________\n",
            "max_pooling2d_5 (MaxPooling2 (None, 24, 24, 64)        0         \n",
            "_________________________________________________________________\n",
            "dropout_6 (Dropout)          (None, 24, 24, 64)        0         \n",
            "_________________________________________________________________\n",
            "conv2d_6 (Conv2D)            (None, 24, 24, 128)       204928    \n",
            "_________________________________________________________________\n",
            "batch_normalization_7 (Batch (None, 24, 24, 128)       512       \n",
            "_________________________________________________________________\n",
            "activation_7 (Activation)    (None, 24, 24, 128)       0         \n",
            "_________________________________________________________________\n",
            "max_pooling2d_6 (MaxPooling2 (None, 12, 12, 128)       0         \n",
            "_________________________________________________________________\n",
            "dropout_7 (Dropout)          (None, 12, 12, 128)       0         \n",
            "_________________________________________________________________\n",
            "conv2d_7 (Conv2D)            (None, 12, 12, 512)       590336    \n",
            "_________________________________________________________________\n",
            "batch_normalization_8 (Batch (None, 12, 12, 512)       2048      \n",
            "_________________________________________________________________\n",
            "activation_8 (Activation)    (None, 12, 12, 512)       0         \n",
            "_________________________________________________________________\n",
            "max_pooling2d_7 (MaxPooling2 (None, 6, 6, 512)         0         \n",
            "_________________________________________________________________\n",
            "dropout_8 (Dropout)          (None, 6, 6, 512)         0         \n",
            "_________________________________________________________________\n",
            "conv2d_8 (Conv2D)            (None, 6, 6, 512)         2359808   \n",
            "_________________________________________________________________\n",
            "batch_normalization_9 (Batch (None, 6, 6, 512)         2048      \n",
            "_________________________________________________________________\n",
            "activation_9 (Activation)    (None, 6, 6, 512)         0         \n",
            "_________________________________________________________________\n",
            "max_pooling2d_8 (MaxPooling2 (None, 3, 3, 512)         0         \n",
            "_________________________________________________________________\n",
            "dropout_9 (Dropout)          (None, 3, 3, 512)         0         \n",
            "_________________________________________________________________\n",
            "flatten_2 (Flatten)          (None, 4608)              0         \n",
            "_________________________________________________________________\n",
            "dense_3 (Dense)              (None, 256)               1179904   \n",
            "_________________________________________________________________\n",
            "batch_normalization_10 (Batc (None, 256)               1024      \n",
            "_________________________________________________________________\n",
            "activation_10 (Activation)   (None, 256)               0         \n",
            "_________________________________________________________________\n",
            "dropout_10 (Dropout)         (None, 256)               0         \n",
            "_________________________________________________________________\n",
            "dense_4 (Dense)              (None, 7)                 1799      \n",
            "=================================================================\n",
            "Total params: 4,343,303\n",
            "Trainable params: 4,340,359\n",
            "Non-trainable params: 2,944\n",
            "_________________________________________________________________\n",
            "None\n"
          ],
          "name": "stdout"
        }
      ]
    },
    {
      "cell_type": "markdown",
      "metadata": {
        "id": "yFe8koCTUrBz",
        "colab_type": "text"
      },
      "source": [
        "Comparing Training loss and accuracy\n",
        "\n",
        "Comparing Validation loss and Validation accuracy\n",
        "\n"
      ]
    },
    {
      "cell_type": "code",
      "metadata": {
        "id": "nloDUQZrpey_",
        "colab_type": "code",
        "outputId": "67d80c7f-af80-4db7-d48a-90cb809be7e5",
        "colab": {
          "base_uri": "https://localhost:8080/",
          "height": 573
        }
      },
      "source": [
        "#Accuracy\n",
        "plt.plot(history.history['accuracy'])\n",
        "plt.plot(history.history['val_accuracy'])\n",
        "plt.title('Model Accuracy')\n",
        "plt.ylabel('Accuracy')\n",
        "plt.xlabel('Epoch')\n",
        "plt.legend(['train', 'val'], loc='upper left')\n",
        "plt.show()\n",
        "\n",
        "#Loss\n",
        "plt.plot(history.history['loss'])\n",
        "plt.plot(history.history['val_loss'])\n",
        "plt.title('Model Loss')\n",
        "plt.ylabel('Loss')\n",
        "plt.xlabel('Epoch')\n",
        "plt.legend(['train', 'val'], loc='upper left')\n",
        "plt.show()"
      ],
      "execution_count": 0,
      "outputs": [
        {
          "output_type": "display_data",
          "data": {
            "image/png": "[encoded data removed]",
            "text/plain": [
              "<Figure size 432x288 with 1 Axes>"
            ]
          },
          "metadata": {
            "tags": [],
            "needs_background": "light"
          }
        },
        {
          "output_type": "display_data",
          "data": {
            "image/png": "[encoded data removed]",
            "text/plain": [
              "<Figure size 432x288 with 1 Axes>"
            ]
          },
          "metadata": {
            "tags": [],
            "needs_background": "light"
          }
        }
      ]
    },
    {
      "cell_type": "markdown",
      "metadata": {
        "id": "YShb0eSrVhUD",
        "colab_type": "text"
      },
      "source": [
        "Load Saved Model"
      ]
    },
    {
      "cell_type": "code",
      "metadata": {
        "id": "WyZ0KByqppTM",
        "colab_type": "code",
        "colab": {}
      },
      "source": [
        "def baseline_model_saved():\n",
        "    #load json and create model\n",
        "    json_file = open(path + 'Models/model_4layer_2_2_pool.json', 'r')\n",
        "    loaded_model_json = json_file.read()\n",
        "    json_file.close()\n",
        "    model = model_from_json(loaded_model_json)\n",
        "    \n",
        "    #load weights from h5 file\n",
        "    model.load_weights(path + \"Models/model_4layer_2_2_pool.h5\")\n",
        "    \n",
        "    model.compile(optimizer='adam', loss='binary_crossentropy', metrics=['accuracy'])\n",
        "    return model\n",
        "\n",
        "model = baseline_model_saved()"
      ],
      "execution_count": 0,
      "outputs": []
    },
    {
      "cell_type": "markdown",
      "metadata": {
        "id": "md9-mp7DVlkO",
        "colab_type": "text"
      },
      "source": [
        "Testing Accuracy"
      ]
    },
    {
      "cell_type": "code",
      "metadata": {
        "id": "VETtrSd6t7oX",
        "colab_type": "code",
        "outputId": "1aa99865-67ea-41ad-e825-5dfdf459f3db",
        "colab": {
          "base_uri": "https://localhost:8080/",
          "height": 34
        }
      },
      "source": [
        "scores = model.evaluate(X_test, y_test, verbose=0)\n",
        "print(\"Accuracy on Test set: %.2f%%\" % (scores[1]*100))"
      ],
      "execution_count": 0,
      "outputs": [
        {
          "output_type": "stream",
          "text": [
            "Accuracy on Test set: 90.95%\n"
          ],
          "name": "stdout"
        }
      ]
    },
    {
      "cell_type": "code",
      "metadata": {
        "id": "9Bjy1ohYdguT",
        "colab_type": "code",
        "outputId": "9f9afb35-4cda-4ae6-8689-df27e3938663",
        "colab": {
          "base_uri": "https://localhost:8080/",
          "height": 363
        }
      },
      "source": [
        "#Confusion Matrix\n",
        "import scikitplot as skplt\n",
        "from sklearn import metrics\n",
        "\n",
        "print(\"\\nIn X-axis and Y-axis--->\")\n",
        "print(\"\\n0-Anger, 1-Disgust, 2-Fear, 3-Happy, 4-Sad, 5-Surprise, 6-Neutral\")\n",
        "\n",
        "score = model.predict(X_test)\n",
        "new_X = [ np.argmax(item) for item in score ]\n",
        "y_test2 = [ np.argmax(item) for item in y_test]\n",
        "\n",
        "np.set_printoptions(precision=2)\n",
        "skplt.metrics.plot_confusion_matrix(y_test2, new_X, normalize=True)\n",
        "plt.savefig(path + \"Images/Confusion-Matrix_deep.png\")\n",
        "plt.show()\n"
      ],
      "execution_count": 0,
      "outputs": [
        {
          "output_type": "stream",
          "text": [
            "\n",
            "In X-axis and Y-axis--->\n",
            "\n",
            "0-Anger, 1-Disgust, 2-Fear, 3-Happy, 4-Sad, 5-Surprise, 6-Neutral\n"
          ],
          "name": "stdout"
        },
        {
          "output_type": "display_data",
          "data": {
            "image/png": "[encoded data removed]",
            "text/plain": [
              "<Figure size 432x288 with 2 Axes>"
            ]
          },
          "metadata": {
            "tags": [],
            "needs_background": "light"
          }
        }
      ]
    },
    {
      "cell_type": "code",
      "metadata": {
        "id": "Jf0OpXl5bqQt",
        "colab_type": "code",
        "outputId": "5d9a1038-db4a-4e2d-ade1-11ee7d892422",
        "colab": {
          "base_uri": "https://localhost:8080/",
          "height": 119
        }
      },
      "source": [
        "score = model.evaluate(X_test, y_test, verbose=0)\n",
        "print('Test Loss:', score[0])\n",
        "print('Test accuracy:', score[1])\n",
        "\n",
        "test_image = X_test[0:1]\n",
        "print (test_image.shape)\n",
        "\n",
        "print(model.predict(test_image))\n",
        "print(model.predict_classes(test_image))\n",
        "print(y_test[0:1])\n"
      ],
      "execution_count": 0,
      "outputs": [
        {
          "output_type": "stream",
          "text": [
            "Test Loss: 0.2457614923692673\n",
            "Test accuracy: 0.9095452427864075\n",
            "(1, 48, 48, 1)\n",
            "[[1.51e-02 6.45e-05 8.39e-03 9.45e-01 1.89e-04 7.26e-03 9.38e-04]]\n",
            "[3]\n",
            "[[0 0 0 1 0 0 0]]\n"
          ],
          "name": "stdout"
        }
      ]
    }
  ]
}
